{
 "cells": [
  {
   "cell_type": "code",
   "execution_count": 6,
   "metadata": {},
   "outputs": [],
   "source": [
    "import argparse\n",
    "import cv2\n",
    "import numpy as np\n",
    "import tensorflow as tf"
   ]
  },
  {
   "cell_type": "code",
   "execution_count": 12,
   "metadata": {},
   "outputs": [],
   "source": [
    "path1=r'C:/Users/Legion/Documents/ParaAutonomia/Python/Curso/Deteccion/frozen_inference_graph_face.pb'"
   ]
  },
  {
   "cell_type": "code",
   "execution_count": 13,
   "metadata": {},
   "outputs": [],
   "source": [
    "import numpy as np\n",
    "import cv2\n",
    "import tensorflow as tf\n",
    "\n",
    "class TensoflowMobilNetSSDFaceDector():\n",
    "    def __init__(self,\n",
    "                 det_threshold=0.3,\n",
    "                 model_path=path1):\n",
    "\n",
    "        self.det_threshold = det_threshold\n",
    "        self.detection_graph = tf.Graph()\n",
    "        with self.detection_graph.as_default():\n",
    "            od_graph_def = tf.GraphDef()\n",
    "            with tf.gfile.GFile(model_path, 'rb') as fid:\n",
    "                serialized_graph = fid.read()\n",
    "                od_graph_def.ParseFromString(serialized_graph)\n",
    "                tf.import_graph_def(od_graph_def, name='')\n",
    "\n",
    "        with self.detection_graph.as_default():\n",
    "            config = tf.ConfigProto()\n",
    "            config.gpu_options.allow_growth = True\n",
    "            self.sess = tf.Session(graph=self.detection_graph, config=config)\n",
    "\n",
    "    def detect_face(self, image):\n",
    "\n",
    "        h, w, c = image.shape\n",
    "\n",
    "        image_np = cv2.cvtColor(image, cv2.COLOR_BGR2RGB)\n",
    "\n",
    "        image_np_expanded = np.expand_dims(image_np, axis=0)\n",
    "        image_tensor = self.detection_graph.get_tensor_by_name(\n",
    "            'image_tensor:0')\n",
    "\n",
    "        boxes = self.detection_graph.get_tensor_by_name('detection_boxes:0')\n",
    "\n",
    "        scores = self.detection_graph.get_tensor_by_name('detection_scores:0')\n",
    "        classes = self.detection_graph.get_tensor_by_name(\n",
    "            'detection_classes:0')\n",
    "        num_detections = self.detection_graph.get_tensor_by_name(\n",
    "            'num_detections:0')\n",
    "\n",
    "        (boxes, scores, classes, num_detections) = self.sess.run(\n",
    "            [boxes, scores, classes, num_detections],\n",
    "            feed_dict={image_tensor: image_np_expanded})\n",
    "\n",
    "        boxes = np.squeeze(boxes)\n",
    "        scores = np.squeeze(scores)\n",
    "\n",
    "        filtered_score_index = np.argwhere(\n",
    "            scores >= self.det_threshold).flatten()\n",
    "        selected_boxes = boxes[filtered_score_index]\n",
    "\n",
    "        faces = np.array([[\n",
    "            int(x1 * w),\n",
    "            int(y1 * h),\n",
    "            int(x2 * w),\n",
    "            int(y2 * h),\n",
    "        ] for y1, x1, y2, x2 in selected_boxes])\n",
    "\n",
    "        return faces\n"
   ]
  },
  {
   "cell_type": "code",
   "execution_count": 14,
   "metadata": {},
   "outputs": [],
   "source": [
    "def main():\n",
    "        # Read image file using opencv\n",
    "    cam = cv2.VideoCapture(0)\n",
    "    \n",
    "    \n",
    "    face_detector = TensoflowMobilNetSSDFaceDector(\n",
    "            det_threshold=0.3,model_path=path1)\n",
    "    while True:\n",
    "        ret,frame=cam.read()\n",
    "        detected_face = face_detector.detect_face(frame)\n",
    "    \n",
    "        for face in detected_face:\n",
    "            # Usage : cv2.rectangle( image_data,(xmin,ymin),(xmax,ymax),colour in BGR format : e.g (255,0,0) , line thickness = e.g 2 )\n",
    "            cv2.rectangle(frame, (face[0], face[1]), (face[2], face[3]),\n",
    "                          (255, 0, 0), 2)\n",
    "\n",
    "        # Show result\n",
    "        cv2.imshow('Face Detection', frame)\n",
    "        k=cv2.waitKey(10) & 0xFF\n",
    "        if k==ord('q'):\n",
    "            break\n",
    "    cv2.destroyAllWindows()\n",
    "    cam.release()\n",
    "    \n",
    "    "
   ]
  },
  {
   "cell_type": "code",
   "execution_count": 15,
   "metadata": {},
   "outputs": [],
   "source": [
    "main()"
   ]
  },
  {
   "cell_type": "code",
   "execution_count": 16,
   "metadata": {},
   "outputs": [],
   "source": [
    "face_detector = TensoflowMobilNetSSDFaceDector(\n",
    "            det_threshold=0.2,\n",
    "            model_path=path1)\n",
    "\n",
    "images=cv2.imread(r'C:/Users/Legion/Documents/ParaAutonomia/Python/Reconocimiento de patrones/tensorflow-face-object-detector-tutorial-master/Lucan-Parade-25.jpg')\n",
    "detected_face = face_detector.detect_face(images)\n",
    "for face in detected_face:\n",
    "    # Usage : cv2.rectangle( image_data,(xmin,ymin),(xmax,ymax),colour in BGR format : e.g (255,0,0) , line thickness = e.g 2 )\n",
    "    cv2.rectangle(images, (face[0], face[1]), (face[2], face[3]),\n",
    "                          (255, 0, 0), 2)\n",
    "cv2.imshow('Face Detection', images)\n",
    "k=cv2.waitKey(5000)\n",
    "images=cv2.imread(r'C:/Users/Legion/Documents/ParaAutonomia/Python/Reconocimiento de patrones/tensorflow-face-object-detector-tutorial-master/croud.jpg')\n",
    "detected_face = face_detector.detect_face(images)\n",
    "for face in detected_face:\n",
    "    # Usage : cv2.rectangle( image_data,(xmin,ymin),(xmax,ymax),colour in BGR format : e.g (255,0,0) , line thickness = e.g 2 )\n",
    "    cv2.rectangle(images, (face[0], face[1]), (face[2], face[3]),\n",
    "                          (255, 0, 0), 2)\n",
    "cv2.imshow('Face Detection', images)\n",
    "k=cv2.waitKey(5000)\n",
    "cv2.destroyAllWindows()"
   ]
  },
  {
   "cell_type": "code",
   "execution_count": null,
   "metadata": {},
   "outputs": [],
   "source": []
  }
 ],
 "metadata": {
  "kernelspec": {
   "display_name": "Python 3",
   "language": "python",
   "name": "python3"
  },
  "language_info": {
   "codemirror_mode": {
    "name": "ipython",
    "version": 3
   },
   "file_extension": ".py",
   "mimetype": "text/x-python",
   "name": "python",
   "nbconvert_exporter": "python",
   "pygments_lexer": "ipython3",
   "version": "3.6.8"
  }
 },
 "nbformat": 4,
 "nbformat_minor": 2
}
