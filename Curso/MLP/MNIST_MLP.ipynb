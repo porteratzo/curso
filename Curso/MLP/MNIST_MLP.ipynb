{
 "cells": [
  {
   "cell_type": "code",
   "execution_count": 1,
   "metadata": {},
   "outputs": [],
   "source": [
    "import numpy as np\n",
    "from matplotlib import cm as cm\n",
    "from matplotlib import pyplot as plt\n",
    "import tensorflow as tf\n",
    "import os"
   ]
  },
  {
   "cell_type": "code",
   "execution_count": 2,
   "metadata": {},
   "outputs": [],
   "source": [
    "load=0\n",
    "\n",
    "from tensorflow.examples.tutorials.mnist import input_data\n",
    "#mnist = input_data.read_data_sets(\"/temp/data/\", one_hot=True)\n",
    "mnist = tf.keras.datasets.mnist\n",
    "(otrain_data, otrain_labels), (otest_data, otest_labels) = mnist.load_data()\n",
    "train_data=otrain_data.astype('float32')/255\n",
    "test_data=otest_data.astype('float32')/255\n",
    "train_labels = tf.keras.utils.to_categorical(otrain_labels, num_classes=10)\n",
    "test_labels = tf.keras.utils.to_categorical(otest_labels, num_classes=10)"
   ]
  },
  {
   "cell_type": "code",
   "execution_count": 3,
   "metadata": {},
   "outputs": [],
   "source": [
    "n_input=784\n",
    "n_classes=10\n",
    "\n",
    "x=tf.placeholder(tf.float32, [None, n_input])\n",
    "y_exp=tf.placeholder(tf.float32, [None, n_classes])\n",
    "W=tf.Variable(tf.zeros([n_input,n_classes]))\n",
    "b1=tf.Variable(tf.zeros([n_classes]))\n",
    "\n",
    "y_pred=tf.nn.softmax(tf.add(tf.matmul(x,W),b1))\n",
    "cross_entropy=tf.reduce_mean(-tf.reduce_sum(y_exp*tf.log(y_pred),reduction_indices=[1]))\n",
    "\n",
    "train_step=tf.train.GradientDescentOptimizer(0.5).minimize(cross_entropy)"
   ]
  },
  {
   "cell_type": "code",
   "execution_count": 4,
   "metadata": {},
   "outputs": [
    {
     "name": "stdout",
     "output_type": "stream",
     "text": [
      "0\n",
      "100\n",
      "200\n",
      "300\n",
      "400\n",
      "500\n",
      "600\n",
      "700\n",
      "800\n",
      "900\n",
      "1000\n",
      "1100\n",
      "1200\n",
      "1300\n",
      "1400\n",
      "1500\n",
      "1600\n",
      "1700\n",
      "1800\n",
      "1900\n"
     ]
    }
   ],
   "source": [
    "saver=tf.train.Saver()\n",
    "\n",
    "sess=tf.InteractiveSession()\n",
    "\n",
    "if load==0:\n",
    "    sess.run(tf.global_variables_initializer())\n",
    "else:\n",
    "    saver.restore(sess,'/saves/myweights.ckpt')\n",
    "\n",
    "if load==0:\n",
    "    for step in range(2000):\n",
    "        if step%100==0:\n",
    "            print (step)\n",
    "        indices = np.random.choice(len(train_data), 32)\n",
    "        batch_xs, batch_ys =train_data[indices],train_labels[indices]\n",
    "        sess.run(train_step, feed_dict={x:batch_xs[:].reshape(-1,784),y_exp:batch_ys})\n",
    "    saver.save(sess,'/saves/myweights.ckpt')"
   ]
  },
  {
   "cell_type": "code",
   "execution_count": 5,
   "metadata": {},
   "outputs": [
    {
     "name": "stdout",
     "output_type": "stream",
     "text": [
      "0.9177\n"
     ]
    }
   ],
   "source": [
    "correct_prediction = tf.equal(tf.argmax(y_pred,1),tf.argmax(y_exp,1))\n",
    "accuracy = tf.reduce_mean(tf.cast(correct_prediction,tf.float32))\n",
    "print(sess.run(accuracy,feed_dict={x:test_data[:].reshape(-1,784),y_exp:test_labels}))\n",
    "out=tf.argmax(y_pred,1)"
   ]
  },
  {
   "cell_type": "code",
   "execution_count": 6,
   "metadata": {},
   "outputs": [
    {
     "name": "stderr",
     "output_type": "stream",
     "text": [
      "C:\\Users\\Legion\\Anaconda3\\envs\\Patt\\lib\\site-packages\\ipykernel_launcher.py:3: DeprecationWarning: This function is deprecated. Please call randint(1, 1000 + 1) instead\n",
      "  This is separate from the ipykernel package so we can avoid doing imports until\n"
     ]
    },
    {
     "name": "stdout",
     "output_type": "stream",
     "text": [
      "[4]\n",
      "[7]\n",
      "[0]\n",
      "[0]\n",
      "[2]\n",
      "[6]\n",
      "[6]\n",
      "[0]\n",
      "[0]\n",
      "[9]\n"
     ]
    },
    {
     "data": {
      "image/png": "[encoded data removed]",
      "text/plain": [
       "<Figure size 432x288 with 10 Axes>"
      ]
     },
     "metadata": {
      "needs_background": "light"
     },
     "output_type": "display_data"
    }
   ],
   "source": [
    "for i in range(10):\n",
    "    \n",
    "    ind=np.random.random_integers(1,1000)\n",
    "    im=test_data[ind]\n",
    "    print(sess.run(out,{x:im.reshape(-1,784)}))\n",
    "    im = im.reshape(28,28)\n",
    "    #print(im)\n",
    "    plt.subplot(2,5,i+1)\n",
    "    plt.imshow(im,cmap = cm.Greys)\n",
    "plt.show()"
   ]
  },
  {
   "cell_type": "code",
   "execution_count": null,
   "metadata": {},
   "outputs": [],
   "source": []
  }
 ],
 "metadata": {
  "kernelspec": {
   "display_name": "Python 3",
   "language": "python",
   "name": "python3"
  },
  "language_info": {
   "codemirror_mode": {
    "name": "ipython",
    "version": 3
   },
   "file_extension": ".py",
   "mimetype": "text/x-python",
   "name": "python",
   "nbconvert_exporter": "python",
   "pygments_lexer": "ipython3",
   "version": "3.6.8"
  }
 },
 "nbformat": 4,
 "nbformat_minor": 2
}
