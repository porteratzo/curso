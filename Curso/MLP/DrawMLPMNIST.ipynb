{
 "cells": [
  {
   "cell_type": "code",
   "execution_count": 1,
   "metadata": {},
   "outputs": [],
   "source": [
    "import cv2\n",
    "import numpy as np\n",
    "import tensorflow as tf"
   ]
  },
  {
   "cell_type": "code",
   "execution_count": 2,
   "metadata": {},
   "outputs": [],
   "source": [
    "n_input=784\n",
    "n_classes=10\n",
    "\n",
    "x=tf.placeholder(tf.float32, [None, n_input])\n",
    "y_exp=tf.placeholder(tf.float32, [None, n_classes])\n",
    "W=tf.Variable(tf.zeros([n_input,n_classes]))\n",
    "b1=tf.Variable(tf.zeros([n_classes]))\n",
    "\n",
    "y_pred=tf.nn.softmax(tf.add(tf.matmul(x,W),b1))\n",
    "cross_entropy=tf.reduce_mean(-tf.reduce_sum(y_exp*tf.log(y_pred),reduction_indices=[1]))\n",
    "\n",
    "train_step=tf.train.GradientDescentOptimizer(0.5).minimize(cross_entropy)"
   ]
  },
  {
   "cell_type": "code",
   "execution_count": 3,
   "metadata": {},
   "outputs": [],
   "source": [
    "sess=tf.InteractiveSession()\n",
    "\n",
    "drawing = False # true if mouse is pressed\n",
    "ix,iy = -1,-1\n",
    "clearbit = 0\n",
    "NNbit= False\n",
    "saver=tf.train.Saver()"
   ]
  },
  {
   "cell_type": "code",
   "execution_count": 4,
   "metadata": {},
   "outputs": [
    {
     "name": "stdout",
     "output_type": "stream",
     "text": [
      "INFO:tensorflow:Restoring parameters from /saves/myweights.ckpt\n"
     ]
    }
   ],
   "source": [
    "saver.restore(sess,'/saves/myweights.ckpt')\n",
    "    \n",
    "out=tf.argmax(y_pred,1)\n",
    "    \n",
    "def draw_circle(event,x,y,flags,param):\n",
    "    global ix,iy,drawing,img,NNbit\n",
    "    if event == cv2.EVENT_LBUTTONDOWN:\n",
    "        drawing = True \n",
    "        ix,iy = x,y\n",
    "    elif event == cv2.EVENT_MOUSEMOVE:\n",
    "        if drawing == True:\n",
    "            cv2.circle(img,(x,y),15,(0,0,0),-1)\n",
    "    elif event == cv2.EVENT_LBUTTONUP:\n",
    "        NNbit=True\n",
    "        drawing = False"
   ]
  },
  {
   "cell_type": "code",
   "execution_count": 5,
   "metadata": {},
   "outputs": [
    {
     "name": "stdout",
     "output_type": "stream",
     "text": [
      "2\n",
      "3\n",
      "2\n",
      "3\n",
      "7\n",
      "3\n",
      "3\n",
      "3\n",
      "3\n",
      "4\n",
      "5\n",
      "3\n",
      "2\n",
      "3\n",
      "3\n",
      "6\n",
      "5\n"
     ]
    }
   ],
   "source": [
    "img = np.ones((280,280,3), np.uint8)*255\n",
    "cv2.namedWindow('image')\n",
    "cv2.setMouseCallback('image',draw_circle)\n",
    "\n",
    "while(1):\n",
    "    cv2.imshow('image',img)\n",
    "\n",
    "    if NNbit == True:\n",
    "        DSimg1=cv2.cvtColor(cv2.resize(img,(28,28),interpolation = cv2.INTER_CUBIC),cv2.COLOR_BGR2GRAY)\n",
    "        DSimg2=1-np.float32(cv2.normalize( DSimg1,None,0,1,cv2.NORM_MINMAX))\n",
    "        #print(DSimg2)\n",
    "        NNinput=DSimg2.flatten()\n",
    "        result=sess.run(out,{x:[NNinput]})[0]\n",
    "        print(result)\n",
    "        if result==0:\n",
    "            dispim=np.array([[0.,0.,0.,0.,0.],[0.,1.,1.,1.,0.],[0.,1.,0.,1.,0.],[0.,1.,0.,1.,0.],[0.,1.,0.,1.,0.],[0.,1.,1.,1.,0.],[0.,0.,0.,0.,0.]])\n",
    "        if result==1:\n",
    "            dispim=np.array([[0.,0.,0.,0.,0.],[0.,0.,1.,0.,0.],[0.,0.,1.,0.,0.],[0.,0.,1.,0.,0.],[0.,0.,1.,0.,0.],[0.,0.,1.,0.,0.],[0.,0.,0.,0.,0.]])\n",
    "        if result==2:\n",
    "            dispim=np.array([[0.,0.,0.,0.,0.],[0.,1.,1.,1.,0.],[0.,0.,0.,1.,0.],[0.,1.,1.,1.,0.],[0.,1.,0.,0.,0.],[0.,1.,1.,1.,0.],[0.,0.,0.,0.,0.]])\n",
    "        if result==3:\n",
    "            dispim=np.array([[0.,0.,0.,0.,0.],[0.,1.,1.,1.,0.],[0.,0.,0.,1.,0.],[0.,1.,1.,1.,0.],[0.,0.,0.,1.,0.],[0.,1.,1.,1.,0.],[0.,0.,0.,0.,0.]])\n",
    "        if result==4:\n",
    "            dispim=np.array([[0.,0.,0.,0.,0.],[0.,1.,0.,1.,0.],[0.,1.,0.,1.,0.],[0.,1.,1.,1.,0.],[0.,0.,0.,1.,0.],[0.,0.,0.,1.,0.],[0.,0.,0.,0.,0.]])\n",
    "        if result==5:\n",
    "            dispim=np.array([[0.,0.,0.,0.,0.],[0.,1.,1.,1.,0.],[0.,1.,0.,0.,0.],[0.,1.,1.,1.,0.],[0.,0.,0.,1.,0.],[0.,1.,1.,1.,0.],[0.,0.,0.,0.,0.]])\n",
    "        if result==6:\n",
    "            dispim=np.array([[0.,0.,0.,0.,0.],[0.,1.,1.,1.,0.],[0.,1.,0.,0.,0.],[0.,1.,1.,1.,0.],[0.,1.,0.,1.,0.],[0.,1.,1.,1.,0.],[0.,0.,0.,0.,0.]])\n",
    "        if result==7:\n",
    "            dispim=np.array([[0.,0.,0.,0.,0.],[0.,1.,1.,1.,0.],[0.,0.,0.,1.,0.],[0.,0.,0.,1.,0.],[0.,0.,1.,0.,0.],[0.,1.,0.,0.,0.],[0.,0.,0.,0.,0.]])\n",
    "        if result==8:\n",
    "            dispim=np.array([[0.,0.,0.,0.,0.],[0.,1.,1.,1.,0.],[0.,1.,0.,1.,0.],[0.,1.,1.,1.,0.],[0.,1.,0.,1.,0.],[0.,1.,1.,1.,0.],[0.,0.,0.,0.,0.]])\n",
    "        if result==9:\n",
    "            dispim=np.array([[0.,0.,0.,0.,0.],[0.,1.,1.,1.,0.],[0.,1.,0.,1.,0.],[0.,1.,1.,1.,0.],[0.,0.,0.,1.,0.],[0.,0.,0.,1.,0.],[0.,0.,0.,0.,0.]])\n",
    "        cv2.namedWindow('result')\n",
    "        cv2.imshow('result',cv2.resize(dispim,(280,280),interpolation = cv2.INTER_NEAREST))\n",
    "        NNbit = not NNbit\n",
    "        img = np.ones((280,280,3), np.uint8)*255\n",
    "    \n",
    "    k = cv2.waitKey(1) & 0xFF\n",
    "    if k == ord('c'):\n",
    "        img = np.ones((280,280,3), np.uint8)*255\n",
    "    if k == ord('n'):\n",
    "        NNbit = not NNbit\n",
    "    if k == 27:\n",
    "        break\n",
    "cv2.destroyAllWindows()"
   ]
  },
  {
   "cell_type": "code",
   "execution_count": null,
   "metadata": {},
   "outputs": [],
   "source": []
  },
  {
   "cell_type": "code",
   "execution_count": null,
   "metadata": {},
   "outputs": [],
   "source": []
  }
 ],
 "metadata": {
  "kernelspec": {
   "display_name": "Python 3",
   "language": "python",
   "name": "python3"
  },
  "language_info": {
   "codemirror_mode": {
    "name": "ipython",
    "version": 3
   },
   "file_extension": ".py",
   "mimetype": "text/x-python",
   "name": "python",
   "nbconvert_exporter": "python",
   "pygments_lexer": "ipython3",
   "version": "3.6.8"
  }
 },
 "nbformat": 4,
 "nbformat_minor": 2
}
