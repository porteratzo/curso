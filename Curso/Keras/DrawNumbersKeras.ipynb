{
 "cells": [
  {
   "cell_type": "code",
   "execution_count": 1,
   "metadata": {},
   "outputs": [],
   "source": [
    "import cv2\n",
    "import numpy as np\n",
    "import tensorflow as tf\n",
    "from tensorflow import keras\n",
    "import os\n",
    "from matplotlib import pyplot as plt"
   ]
  },
  {
   "cell_type": "code",
   "execution_count": 2,
   "metadata": {},
   "outputs": [
    {
     "name": "stdout",
     "output_type": "stream",
     "text": [
      "WARNING:tensorflow:No training configuration found in save file: the model was *not* compiled. Compile it manually.\n",
      "_________________________________________________________________\n",
      "Layer (type)                 Output Shape              Param #   \n",
      "=================================================================\n",
      "conv2d (Conv2D)              (None, 28, 28, 16)        160       \n",
      "_________________________________________________________________\n",
      "activation (Activation)      (None, 28, 28, 16)        0         \n",
      "_________________________________________________________________\n",
      "max_pooling2d (MaxPooling2D) (None, 14, 14, 16)        0         \n",
      "_________________________________________________________________\n",
      "conv2d_1 (Conv2D)            (None, 14, 14, 32)        4640      \n",
      "_________________________________________________________________\n",
      "activation_1 (Activation)    (None, 14, 14, 32)        0         \n",
      "_________________________________________________________________\n",
      "max_pooling2d_1 (MaxPooling2 (None, 7, 7, 32)          0         \n",
      "_________________________________________________________________\n",
      "flatten (Flatten)            (None, 1568)              0         \n",
      "_________________________________________________________________\n",
      "dense (Dense)                (None, 32)                50208     \n",
      "_________________________________________________________________\n",
      "dense_1 (Dense)              (None, 64)                2112      \n",
      "_________________________________________________________________\n",
      "dense_2 (Dense)              (None, 10)                650       \n",
      "=================================================================\n",
      "Total params: 57,770\n",
      "Trainable params: 57,770\n",
      "Non-trainable params: 0\n",
      "_________________________________________________________________\n"
     ]
    }
   ],
   "source": [
    "\n",
    "new_model = keras.models.load_model('kerasMNIST_ModelConv.h5')\n",
    "new_model.summary()\n",
    "new_model.compile(optimizer=tf.train.AdamOptimizer(), \n",
    "        loss='sparse_categorical_crossentropy',\n",
    "        metrics=['accuracy'])\n"
   ]
  },
  {
   "cell_type": "code",
   "execution_count": 3,
   "metadata": {},
   "outputs": [],
   "source": [
    "def draw_circle(event,x,y,flags,param):\n",
    "    global ix,iy,drawing,img,NNbit\n",
    "    if event == cv2.EVENT_LBUTTONDOWN:\n",
    "        drawing = True \n",
    "        ix,iy = x,y\n",
    "    elif event == cv2.EVENT_MOUSEMOVE:\n",
    "        if drawing == True:\n",
    "            cv2.circle(img,(x,y),15,(0,0,0),-1)\n",
    "    elif event == cv2.EVENT_LBUTTONUP:\n",
    "        NNbit=True\n",
    "        drawing = False"
   ]
  },
  {
   "cell_type": "code",
   "execution_count": 4,
   "metadata": {},
   "outputs": [],
   "source": [
    "img = np.ones((280,280,3), np.uint8)*255\n",
    "cv2.namedWindow('image')\n",
    "cv2.setMouseCallback('image',draw_circle)\n"
   ]
  },
  {
   "cell_type": "code",
   "execution_count": 5,
   "metadata": {},
   "outputs": [
    {
     "name": "stdout",
     "output_type": "stream",
     "text": [
      "5\n",
      "4\n",
      "4\n",
      "3\n",
      "4\n",
      "5\n",
      "5\n",
      "6\n",
      "9\n",
      "7\n",
      "2\n"
     ]
    }
   ],
   "source": [
    "NNbit=False\n",
    "drawing=False\n",
    "while(1):\n",
    "    cv2.imshow('image',img)\n",
    "\n",
    "    if NNbit == True:\n",
    "        DSimg1=cv2.cvtColor(cv2.resize(img,(28,28),interpolation = cv2.INTER_CUBIC),cv2.COLOR_BGR2GRAY)\n",
    "        DSimg2=1-np.float32(cv2.normalize( DSimg1,None,0,1,cv2.NORM_MINMAX))\n",
    "        #print(DSimg2)\n",
    "        \n",
    "        testinput=np.reshape(DSimg2,(1,28,28,1))\n",
    "        result = np.argmax(new_model.predict(testinput))\n",
    "        \n",
    "        print(result)\n",
    "        if result==0:\n",
    "            dispim=np.array([[0.,0.,0.,0.,0.],[0.,1.,1.,1.,0.],[0.,1.,0.,1.,0.],[0.,1.,0.,1.,0.],[0.,1.,0.,1.,0.],[0.,1.,1.,1.,0.],[0.,0.,0.,0.,0.]])\n",
    "        if result==1:\n",
    "            dispim=np.array([[0.,0.,0.,0.,0.],[0.,0.,1.,0.,0.],[0.,0.,1.,0.,0.],[0.,0.,1.,0.,0.],[0.,0.,1.,0.,0.],[0.,0.,1.,0.,0.],[0.,0.,0.,0.,0.]])\n",
    "        if result==2:\n",
    "            dispim=np.array([[0.,0.,0.,0.,0.],[0.,1.,1.,1.,0.],[0.,0.,0.,1.,0.],[0.,1.,1.,1.,0.],[0.,1.,0.,0.,0.],[0.,1.,1.,1.,0.],[0.,0.,0.,0.,0.]])\n",
    "        if result==3:\n",
    "            dispim=np.array([[0.,0.,0.,0.,0.],[0.,1.,1.,1.,0.],[0.,0.,0.,1.,0.],[0.,1.,1.,1.,0.],[0.,0.,0.,1.,0.],[0.,1.,1.,1.,0.],[0.,0.,0.,0.,0.]])\n",
    "        if result==4:\n",
    "            dispim=np.array([[0.,0.,0.,0.,0.],[0.,1.,0.,1.,0.],[0.,1.,0.,1.,0.],[0.,1.,1.,1.,0.],[0.,0.,0.,1.,0.],[0.,0.,0.,1.,0.],[0.,0.,0.,0.,0.]])\n",
    "        if result==5:\n",
    "            dispim=np.array([[0.,0.,0.,0.,0.],[0.,1.,1.,1.,0.],[0.,1.,0.,0.,0.],[0.,1.,1.,1.,0.],[0.,0.,0.,1.,0.],[0.,1.,1.,1.,0.],[0.,0.,0.,0.,0.]])\n",
    "        if result==6:\n",
    "            dispim=np.array([[0.,0.,0.,0.,0.],[0.,1.,1.,1.,0.],[0.,1.,0.,0.,0.],[0.,1.,1.,1.,0.],[0.,1.,0.,1.,0.],[0.,1.,1.,1.,0.],[0.,0.,0.,0.,0.]])\n",
    "        if result==7:\n",
    "            dispim=np.array([[0.,0.,0.,0.,0.],[0.,1.,1.,1.,0.],[0.,0.,0.,1.,0.],[0.,0.,0.,1.,0.],[0.,0.,1.,0.,0.],[0.,1.,0.,0.,0.],[0.,0.,0.,0.,0.]])\n",
    "        if result==8:\n",
    "            dispim=np.array([[0.,0.,0.,0.,0.],[0.,1.,1.,1.,0.],[0.,1.,0.,1.,0.],[0.,1.,1.,1.,0.],[0.,1.,0.,1.,0.],[0.,1.,1.,1.,0.],[0.,0.,0.,0.,0.]])\n",
    "        if result==9:\n",
    "            dispim=np.array([[0.,0.,0.,0.,0.],[0.,1.,1.,1.,0.],[0.,1.,0.,1.,0.],[0.,1.,1.,1.,0.],[0.,0.,0.,1.,0.],[0.,0.,0.,1.,0.],[0.,0.,0.,0.,0.]])\n",
    "        cv2.namedWindow('result')\n",
    "        cv2.imshow('result',cv2.resize(dispim,(280,280),interpolation = cv2.INTER_NEAREST))\n",
    "        NNbit = not NNbit\n",
    "        img = np.ones((280,280,3), np.uint8)*255\n",
    "    \n",
    "    k = cv2.waitKey(1) & 0xFF\n",
    "    if k == ord('c'):\n",
    "        img = np.ones((280,280,3), np.uint8)*255\n",
    "    if k == ord('n'):\n",
    "        NNbit = not NNbit\n",
    "    if k == 27:\n",
    "        break\n",
    "cv2.destroyAllWindows()"
   ]
  },
  {
   "cell_type": "code",
   "execution_count": 6,
   "metadata": {},
   "outputs": [],
   "source": [
    "cv2.destroyAllWindows()"
   ]
  },
  {
   "cell_type": "code",
   "execution_count": null,
   "metadata": {},
   "outputs": [],
   "source": []
  }
 ],
 "metadata": {
  "kernelspec": {
   "display_name": "Python 3",
   "language": "python",
   "name": "python3"
  },
  "language_info": {
   "codemirror_mode": {
    "name": "ipython",
    "version": 3
   },
   "file_extension": ".py",
   "mimetype": "text/x-python",
   "name": "python",
   "nbconvert_exporter": "python",
   "pygments_lexer": "ipython3",
   "version": "3.6.8"
  }
 },
 "nbformat": 4,
 "nbformat_minor": 2
}
