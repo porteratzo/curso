{
 "cells": [
  {
   "cell_type": "code",
   "execution_count": 1,
   "metadata": {},
   "outputs": [
    {
     "name": "stdout",
     "output_type": "stream",
     "text": [
      "1.12.0\n"
     ]
    }
   ],
   "source": [
    "import tensorflow as tf\n",
    "from tensorflow import keras\n",
    "from matplotlib import pyplot as plt\n",
    "import pandas as pd\n",
    "import os\n",
    "from time import time\n",
    "import numpy as np\n",
    "\n",
    "print(tf.__version__)"
   ]
  },
  {
   "cell_type": "code",
   "execution_count": 2,
   "metadata": {},
   "outputs": [],
   "source": [
    "mnist = keras.datasets.mnist\n",
    "(train_data, train_labels), (test_data, test_labels) = mnist.load_data()"
   ]
  },
  {
   "cell_type": "code",
   "execution_count": 3,
   "metadata": {
    "scrolled": true
   },
   "outputs": [],
   "source": [
    "Ntrain_data=train_data.astype('float32')/255\n",
    "Ntrain_data=np.reshape(Ntrain_data,(-1,28,28,1))\n",
    "\n",
    "Ntest_data=test_data.astype('float32')/255\n",
    "Ntest_data=np.reshape(Ntest_data,(-1,28,28,1))\n",
    "\n",
    "Ntrain_y=keras.utils.to_categorical(train_labels)\n",
    "Ntest_y=keras.utils.to_categorical(test_labels)\n",
    "\n",
    "load=False"
   ]
  },
  {
   "cell_type": "code",
   "execution_count": 4,
   "metadata": {
    "scrolled": true
   },
   "outputs": [
    {
     "name": "stdout",
     "output_type": "stream",
     "text": [
      "_________________________________________________________________\n",
      "Layer (type)                 Output Shape              Param #   \n",
      "=================================================================\n",
      "conv2d (Conv2D)              (None, 28, 28, 16)        160       \n",
      "_________________________________________________________________\n",
      "activation (Activation)      (None, 28, 28, 16)        0         \n",
      "_________________________________________________________________\n",
      "max_pooling2d (MaxPooling2D) (None, 14, 14, 16)        0         \n",
      "_________________________________________________________________\n",
      "conv2d_1 (Conv2D)            (None, 14, 14, 32)        4640      \n",
      "_________________________________________________________________\n",
      "activation_1 (Activation)    (None, 14, 14, 32)        0         \n",
      "_________________________________________________________________\n",
      "max_pooling2d_1 (MaxPooling2 (None, 7, 7, 32)          0         \n",
      "_________________________________________________________________\n",
      "flatten (Flatten)            (None, 1568)              0         \n",
      "_________________________________________________________________\n",
      "dense (Dense)                (None, 32)                50208     \n",
      "_________________________________________________________________\n",
      "dense_1 (Dense)              (None, 64)                2112      \n",
      "_________________________________________________________________\n",
      "dense_2 (Dense)              (None, 10)                650       \n",
      "=================================================================\n",
      "Total params: 57,770\n",
      "Trainable params: 57,770\n",
      "Non-trainable params: 0\n",
      "_________________________________________________________________\n"
     ]
    }
   ],
   "source": [
    "n_classes=10\n",
    "model = keras.Sequential()\n",
    "model.add(keras.layers.Conv2D(16,(3,3),strides=1,padding='SAME',input_shape=(28,28,1),data_format=\"channels_last\"))\n",
    "model.add(keras.layers.Activation(\"relu\"))\n",
    "model.add(keras.layers.MaxPooling2D(strides=[2,2],padding='SAME'))\n",
    "model.add(keras.layers.Conv2D(32,(3,3),strides=[1,1],padding='SAME'))\n",
    "model.add(keras.layers.Activation(\"relu\"))\n",
    "model.add(keras.layers.MaxPooling2D(strides=[2,2],padding='SAME'))\n",
    "model.add(keras.layers.Flatten())\n",
    "model.add(keras.layers.Dense(32, activation=tf.nn.relu))\n",
    "model.add(keras.layers.Dense(64, activation=tf.nn.relu))\n",
    "model.add(keras.layers.Dense(n_classes, activation=tf.nn.softmax))\n",
    "model.summary()"
   ]
  },
  {
   "cell_type": "code",
   "execution_count": 5,
   "metadata": {},
   "outputs": [],
   "source": [
    "model.compile(optimizer=tf.train.AdamOptimizer(), \n",
    "              loss='categorical_crossentropy',\n",
    "              metrics=['accuracy'])"
   ]
  },
  {
   "cell_type": "code",
   "execution_count": 6,
   "metadata": {},
   "outputs": [],
   "source": [
    "tensorboard = keras.callbacks.TensorBoard(log_dir=\"C:/logs/{}\".format(time()),write_grads=True,write_images=True,histogram_freq=1)"
   ]
  },
  {
   "cell_type": "code",
   "execution_count": 7,
   "metadata": {},
   "outputs": [],
   "source": [
    "batchsize=64\n",
    "Nbatches=Ntrain_data.shape[0]/batchsize"
   ]
  },
  {
   "cell_type": "code",
   "execution_count": 8,
   "metadata": {
    "scrolled": true
   },
   "outputs": [
    {
     "name": "stdout",
     "output_type": "stream",
     "text": [
      "Train on 60000 samples, validate on 10000 samples\n",
      "Epoch 1/10\n",
      "60000/60000 [==============================] - 20s 327us/step - loss: 0.2408 - acc: 0.9268 - val_loss: 0.0885 - val_acc: 0.9696\n",
      "Epoch 2/10\n",
      "59904/60000 [============================>.] - ETA: 0s - loss: 0.0744 - acc: 0.9772\n",
      "Epoch 00002: saving model to training_1/cp.ckpt\n",
      "60000/60000 [==============================] - 20s 326us/step - loss: 0.0744 - acc: 0.9772 - val_loss: 0.0569 - val_acc: 0.9810\n",
      "Epoch 3/10\n",
      "60000/60000 [==============================] - 18s 308us/step - loss: 0.0534 - acc: 0.9833 - val_loss: 0.0534 - val_acc: 0.9830\n",
      "Epoch 4/10\n",
      "59776/60000 [============================>.] - ETA: 0s - loss: 0.0405 - acc: 0.9873\n",
      "Epoch 00004: saving model to training_1/cp.ckpt\n",
      "60000/60000 [==============================] - 18s 304us/step - loss: 0.0405 - acc: 0.9873 - val_loss: 0.0484 - val_acc: 0.9831\n",
      "Epoch 5/10\n",
      "60000/60000 [==============================] - 18s 300us/step - loss: 0.0336 - acc: 0.9892 - val_loss: 0.0346 - val_acc: 0.9886\n",
      "Epoch 6/10\n",
      "59776/60000 [============================>.] - ETA: 0s - loss: 0.0277 - acc: 0.9914\n",
      "Epoch 00006: saving model to training_1/cp.ckpt\n",
      "60000/60000 [==============================] - 18s 305us/step - loss: 0.0277 - acc: 0.9914 - val_loss: 0.0426 - val_acc: 0.9865\n",
      "Epoch 7/10\n",
      "60000/60000 [==============================] - 18s 304us/step - loss: 0.0240 - acc: 0.9922 - val_loss: 0.0360 - val_acc: 0.9892\n",
      "Epoch 8/10\n",
      "59776/60000 [============================>.] - ETA: 0s - loss: 0.0194 - acc: 0.9936\n",
      "Epoch 00008: saving model to training_1/cp.ckpt\n",
      "60000/60000 [==============================] - 18s 300us/step - loss: 0.0193 - acc: 0.9936 - val_loss: 0.0490 - val_acc: 0.9858\n",
      "Epoch 9/10\n",
      "60000/60000 [==============================] - 19s 313us/step - loss: 0.0172 - acc: 0.9942 - val_loss: 0.0403 - val_acc: 0.9889\n",
      "Epoch 10/10\n",
      "59968/60000 [============================>.] - ETA: 0s - loss: 0.0146 - acc: 0.9953\n",
      "Epoch 00010: saving model to training_1/cp.ckpt\n",
      "60000/60000 [==============================] - 19s 312us/step - loss: 0.0146 - acc: 0.9953 - val_loss: 0.0408 - val_acc: 0.9887\n"
     ]
    }
   ],
   "source": [
    "checkpoint_path = \"training_1/cp.ckpt\"\n",
    "checkpoint_dir = os.path.dirname(checkpoint_path)\n",
    "\n",
    "\n",
    "if load == True:\n",
    "    latest=tf.train.latest_checkpoint(checkpoint_dir)\n",
    "    model.load_weights(latest)\n",
    "else:\n",
    "    cp_callback = tf.keras.callbacks.ModelCheckpoint(checkpoint_path, \n",
    "                                                 save_weights_only=True,\n",
    "                                                 verbose=1,period=2)\n",
    "    #model.save_weights('./checkpoints/my_checkpoint')\n",
    "\n",
    "\n",
    "    early_stop = keras.callbacks.EarlyStopping(monitor='val_loss', patience=10)\n",
    "\n",
    "    history = model.fit(Ntrain_data, Ntrain_y, epochs=10,validation_data=[Ntest_data, Ntest_y],batch_size=batchsize,\n",
    "              callbacks=[tensorboard,cp_callback])"
   ]
  },
  {
   "cell_type": "code",
   "execution_count": 13,
   "metadata": {},
   "outputs": [
    {
     "data": {
      "text/plain": [
       "9887.0"
      ]
     },
     "execution_count": 13,
     "metadata": {},
     "output_type": "execute_result"
    }
   ],
   "source": [
    "10e3*0.9887"
   ]
  },
  {
   "cell_type": "code",
   "execution_count": 15,
   "metadata": {},
   "outputs": [
    {
     "name": "stdout",
     "output_type": "stream",
     "text": [
      "   val_loss  val_acc      loss       acc  epoch\n",
      "5  0.042613   0.9865  0.027748  0.991367      5\n",
      "6  0.035952   0.9892  0.024034  0.992250      6\n",
      "7  0.049046   0.9858  0.019326  0.993567      7\n",
      "8  0.040345   0.9889  0.017229  0.994167      8\n",
      "9  0.040759   0.9887  0.014622  0.995317      9\n"
     ]
    },
    {
     "data": {
      "image/png": "[encoded data removed]",
      "text/plain": [
       "<Figure size 432x288 with 1 Axes>"
      ]
     },
     "metadata": {
      "needs_background": "light"
     },
     "output_type": "display_data"
    }
   ],
   "source": [
    "if load == False:    \n",
    "    hist = pd.DataFrame(history.history)\n",
    "    hist['epoch'] = history.epoch\n",
    "    print(hist.tail())\n",
    "    plt.plot(hist['epoch'],hist['acc'])\n",
    "    plt.plot(hist['epoch'],hist['val_acc'])\n",
    "    plt.legend(['train acc','test acc'])"
   ]
  },
  {
   "cell_type": "code",
   "execution_count": 16,
   "metadata": {},
   "outputs": [
    {
     "name": "stdout",
     "output_type": "stream",
     "text": [
      "WARNING:tensorflow:TensorFlow optimizers do not make it possible to access optimizer attributes or optimizer state after instantiation. As a result, we cannot save the optimizer as part of the model save file.You will have to compile your model again after loading it. Prefer using a Keras optimizer instead (see keras.io/optimizers).\n"
     ]
    }
   ],
   "source": [
    "model.save('kerasMNIST_ModelConv.h5')"
   ]
  },
  {
   "cell_type": "code",
   "execution_count": null,
   "metadata": {},
   "outputs": [],
   "source": []
  }
 ],
 "metadata": {
  "kernelspec": {
   "display_name": "Python 3",
   "language": "python",
   "name": "python3"
  },
  "language_info": {
   "codemirror_mode": {
    "name": "ipython",
    "version": 3
   },
   "file_extension": ".py",
   "mimetype": "text/x-python",
   "name": "python",
   "nbconvert_exporter": "python",
   "pygments_lexer": "ipython3",
   "version": "3.6.8"
  }
 },
 "nbformat": 4,
 "nbformat_minor": 2
}
