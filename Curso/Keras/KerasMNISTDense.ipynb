{
 "cells": [
  {
   "cell_type": "code",
   "execution_count": 1,
   "metadata": {},
   "outputs": [
    {
     "name": "stdout",
     "output_type": "stream",
     "text": [
      "1.12.0\n"
     ]
    }
   ],
   "source": [
    "import tensorflow as tf\n",
    "from tensorflow import keras\n",
    "from matplotlib import pyplot as plt\n",
    "import pandas as pd\n",
    "import os\n",
    "from time import time\n",
    "import numpy as np\n",
    "\n",
    "print(tf.__version__)"
   ]
  },
  {
   "cell_type": "code",
   "execution_count": 2,
   "metadata": {},
   "outputs": [],
   "source": [
    "mnist = keras.datasets.mnist\n",
    "(train_data, train_labels), (test_data, test_labels) = mnist.load_data()"
   ]
  },
  {
   "cell_type": "code",
   "execution_count": 14,
   "metadata": {
    "scrolled": true
   },
   "outputs": [],
   "source": [
    "Ntrain_data=train_data.astype('float32')/255\n",
    "Ntrain_data=np.reshape(Ntrain_data,(-1,28,28,1))\n",
    "\n",
    "Ntest_data=test_data.astype('float32')/255\n",
    "Ntest_data=np.reshape(Ntest_data,(-1,28,28,1))"
   ]
  },
  {
   "cell_type": "code",
   "execution_count": 47,
   "metadata": {
    "scrolled": true
   },
   "outputs": [
    {
     "name": "stdout",
     "output_type": "stream",
     "text": [
      "_________________________________________________________________\n",
      "Layer (type)                 Output Shape              Param #   \n",
      "=================================================================\n",
      "flatten_3 (Flatten)          (None, 784)               0         \n",
      "_________________________________________________________________\n",
      "dense_9 (Dense)              (None, 32)                25120     \n",
      "_________________________________________________________________\n",
      "dense_10 (Dense)             (None, 64)                2112      \n",
      "_________________________________________________________________\n",
      "dense_11 (Dense)             (None, 10)                650       \n",
      "=================================================================\n",
      "Total params: 27,882\n",
      "Trainable params: 27,882\n",
      "Non-trainable params: 0\n",
      "_________________________________________________________________\n"
     ]
    }
   ],
   "source": [
    "\n",
    "n_input=784\n",
    "n_classes=10\n",
    "\n",
    "model = keras.Sequential()\n",
    "model.add(keras.layers.Flatten(input_shape=(28,28,1),data_format=\"channels_last\"))\n",
    "model.add(keras.layers.Dense(32, activation=tf.nn.relu))\n",
    "model.add(keras.layers.Dense(64, activation=tf.nn.relu))\n",
    "model.add(keras.layers.Dense(n_classes, activation=tf.nn.softmax))\n",
    "model.summary()"
   ]
  },
  {
   "cell_type": "code",
   "execution_count": 48,
   "metadata": {},
   "outputs": [],
   "source": [
    "model.compile(optimizer=tf.train.AdamOptimizer(), \n",
    "              loss='categorical_crossentropy',\n",
    "              metrics=['accuracy'])"
   ]
  },
  {
   "cell_type": "code",
   "execution_count": 49,
   "metadata": {},
   "outputs": [],
   "source": [
    "batchsize=64\n",
    "Nbatches=Ntrain_data.shape[0]/batchsize"
   ]
  },
  {
   "cell_type": "code",
   "execution_count": 50,
   "metadata": {},
   "outputs": [
    {
     "data": {
      "text/plain": [
       "5"
      ]
     },
     "execution_count": 50,
     "metadata": {},
     "output_type": "execute_result"
    }
   ],
   "source": [
    "train_labels[0]"
   ]
  },
  {
   "cell_type": "code",
   "execution_count": 51,
   "metadata": {},
   "outputs": [],
   "source": [
    "Ntrain_y=keras.utils.to_categorical(train_labels)\n",
    "Ntest_y=keras.utils.to_categorical(test_labels)"
   ]
  },
  {
   "cell_type": "code",
   "execution_count": 52,
   "metadata": {
    "scrolled": true
   },
   "outputs": [
    {
     "name": "stdout",
     "output_type": "stream",
     "text": [
      "Train on 60000 samples, validate on 10000 samples\n",
      "Epoch 1/10\n",
      "60000/60000 [==============================] - 4s 70us/step - loss: 0.3790 - acc: 0.8916 - val_loss: 0.2180 - val_acc: 0.9377\n",
      "Epoch 2/10\n",
      "59904/60000 [============================>.] - ETA: 0s - loss: 0.1813 - acc: 0.9465\n",
      "Epoch 00002: saving model to training_1/cp.ckpt\n",
      "60000/60000 [==============================] - 4s 62us/step - loss: 0.1812 - acc: 0.9465 - val_loss: 0.1512 - val_acc: 0.9535\n",
      "Epoch 3/10\n",
      "60000/60000 [==============================] - 3s 56us/step - loss: 0.1417 - acc: 0.9573 - val_loss: 0.1321 - val_acc: 0.9595\n",
      "Epoch 4/10\n",
      "59392/60000 [============================>.] - ETA: 0s - loss: 0.1175 - acc: 0.9645\n",
      "Epoch 00004: saving model to training_1/cp.ckpt\n",
      "60000/60000 [==============================] - 3s 54us/step - loss: 0.1173 - acc: 0.9645 - val_loss: 0.1274 - val_acc: 0.9607\n",
      "Epoch 5/10\n",
      "60000/60000 [==============================] - 3s 55us/step - loss: 0.1013 - acc: 0.9697 - val_loss: 0.1160 - val_acc: 0.9636\n",
      "Epoch 6/10\n",
      "58944/60000 [============================>.] - ETA: 0s - loss: 0.0892 - acc: 0.9729\n",
      "Epoch 00006: saving model to training_1/cp.ckpt\n",
      "60000/60000 [==============================] - 3s 55us/step - loss: 0.0893 - acc: 0.9728 - val_loss: 0.1079 - val_acc: 0.9665\n",
      "Epoch 7/10\n",
      "60000/60000 [==============================] - 4s 58us/step - loss: 0.0791 - acc: 0.9756 - val_loss: 0.1055 - val_acc: 0.9687\n",
      "Epoch 8/10\n",
      "59968/60000 [============================>.] - ETA: 0s - loss: 0.0709 - acc: 0.9782\n",
      "Epoch 00008: saving model to training_1/cp.ckpt\n",
      "60000/60000 [==============================] - 4s 59us/step - loss: 0.0709 - acc: 0.9782 - val_loss: 0.1038 - val_acc: 0.9684\n",
      "Epoch 9/10\n",
      "60000/60000 [==============================] - 3s 57us/step - loss: 0.0640 - acc: 0.9792 - val_loss: 0.1015 - val_acc: 0.9689\n",
      "Epoch 10/10\n",
      "59840/60000 [============================>.] - ETA: 0s - loss: 0.0586 - acc: 0.9817\n",
      "Epoch 00010: saving model to training_1/cp.ckpt\n",
      "60000/60000 [==============================] - 4s 59us/step - loss: 0.0586 - acc: 0.9817 - val_loss: 0.1019 - val_acc: 0.9705\n"
     ]
    }
   ],
   "source": [
    "checkpoint_path = \"training_1/cp.ckpt\"\n",
    "checkpoint_dir = os.path.dirname(checkpoint_path)\n",
    "\n",
    "load=False\n",
    "if load == True:\n",
    "    latest=tf.train.latest_checkpoint(checkpoint_dir)\n",
    "    model.load_weights(latest)\n",
    "else:\n",
    "    cp_callback = tf.keras.callbacks.ModelCheckpoint(checkpoint_path, \n",
    "                                                 save_weights_only=True,\n",
    "                                                 verbose=1,period=2)\n",
    "    #model.save_weights('./checkpoints/my_checkpoint')\n",
    "\n",
    "\n",
    "    early_stop = keras.callbacks.EarlyStopping(monitor='val_loss', patience=10)\n",
    "\n",
    "    history = model.fit(Ntrain_data, Ntrain_y, epochs=10,validation_data=[Ntest_data, Ntest_y],batch_size=batchsize,\n",
    "              callbacks=[cp_callback])"
   ]
  },
  {
   "cell_type": "code",
   "execution_count": 53,
   "metadata": {},
   "outputs": [
    {
     "name": "stdout",
     "output_type": "stream",
     "text": [
      "   val_loss  val_acc      loss       acc  epoch\n",
      "5  0.107891   0.9665  0.089298  0.972767      5\n",
      "6  0.105476   0.9687  0.079090  0.975633      6\n",
      "7  0.103792   0.9684  0.070920  0.978217      7\n",
      "8  0.101453   0.9689  0.064018  0.979217      8\n",
      "9  0.101901   0.9705  0.058575  0.981733      9\n"
     ]
    },
    {
     "data": {
      "image/png": "[encoded data removed]",
      "text/plain": [
       "<Figure size 432x288 with 1 Axes>"
      ]
     },
     "metadata": {
      "needs_background": "light"
     },
     "output_type": "display_data"
    }
   ],
   "source": [
    "if load == False:    \n",
    "    hist = pd.DataFrame(history.history)\n",
    "    hist['epoch'] = history.epoch\n",
    "    print(hist.tail())\n",
    "    plt.plot(hist['epoch'],hist['acc'])\n",
    "    plt.plot(hist['epoch'],hist['val_acc'])\n",
    "    plt.legend(['train acc','test acc'])"
   ]
  },
  {
   "cell_type": "code",
   "execution_count": 46,
   "metadata": {},
   "outputs": [
    {
     "name": "stdout",
     "output_type": "stream",
     "text": [
      "WARNING:tensorflow:TensorFlow optimizers do not make it possible to access optimizer attributes or optimizer state after instantiation. As a result, we cannot save the optimizer as part of the model save file.You will have to compile your model again after loading it. Prefer using a Keras optimizer instead (see keras.io/optimizers).\n"
     ]
    }
   ],
   "source": [
    "model.save('kerasMNIST_ModelDense.h5')\n"
   ]
  }
 ],
 "metadata": {
  "kernelspec": {
   "display_name": "Python 3",
   "language": "python",
   "name": "python3"
  },
  "language_info": {
   "codemirror_mode": {
    "name": "ipython",
    "version": 3
   },
   "file_extension": ".py",
   "mimetype": "text/x-python",
   "name": "python",
   "nbconvert_exporter": "python",
   "pygments_lexer": "ipython3",
   "version": "3.6.8"
  }
 },
 "nbformat": 4,
 "nbformat_minor": 2
}
