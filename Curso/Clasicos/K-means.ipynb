{
 "cells": [
  {
   "cell_type": "code",
   "execution_count": 1,
   "metadata": {},
   "outputs": [],
   "source": [
    "import cv2\n",
    "import numpy as np\n",
    "import matplotlib.pyplot as plt\n",
    "import tensorflow as tf"
   ]
  },
  {
   "cell_type": "code",
   "execution_count": 3,
   "metadata": {},
   "outputs": [],
   "source": [
    "X1 = np.random.randint(10,20,(25,1))\n",
    "Y1 = np.random.randint(25,50,(25,1))\n",
    "Z1 = np.hstack((X1,Y1))\n",
    "X2 = np.random.randint(25,50,(25,1))\n",
    "Y2 = np.random.randint(10,70,(25,1))\n",
    "Z2 = np.hstack((X2,Y2))\n",
    "X3 = np.random.randint(55,60,(25,1))\n",
    "Y3 = np.random.randint(0,10,(25,1))\n",
    "Z3 = np.hstack((X3,Y3))\n",
    "X4 = np.random.randint(40,60,(25,1))\n",
    "Y4 = np.random.randint(40,60,(25,1))\n",
    "Z4 = np.hstack((X4,Y4))\n",
    "\n",
    "\n",
    "Z = np.vstack((Z1,Z2,Z3,Z4))#acomodamos verticalmente los arreglos dados\n",
    "# convert to np.float32\n",
    "Z = np.float32(Z)"
   ]
  },
  {
   "cell_type": "code",
   "execution_count": 6,
   "metadata": {},
   "outputs": [
    {
     "data": {
      "image/png": "[encoded data removed]",
      "text/plain": [
       "<Figure size 432x288 with 1 Axes>"
      ]
     },
     "metadata": {
      "needs_background": "light"
     },
     "output_type": "display_data"
    }
   ],
   "source": [
    "K=5\n",
    "\n",
    "criteria = (cv2.TERM_CRITERIA_EPS + cv2.TERM_CRITERIA_MAX_ITER, 10, 1.0)#criterio de paro, cuando se alcanze un error\n",
    "#debajo de epsilon o cuando se alcanze manximas iteraciones, numero de iteraciones, valor epsilon\n",
    "ret,label,center=cv2.kmeans(Z,K,None,criteria,10,cv2.KMEANS_RANDOM_CENTERS)#ejecutamos k means sobre nuestros puntos\n",
    "#buscamos separarlos en K clases, con los criterios de paro, se hace esto 10 veces y se regresa el mejor intento, se\n",
    "#inicializan los centroides al azar\n",
    "# Now separate the data, Note the flatten()\n",
    "A = Z[label.ravel()==0]\n",
    "B = Z[label.ravel()==1]\n",
    "C = Z[label.ravel()==2]\n",
    "D = Z[label.ravel()==3]\n",
    "E = Z[label.ravel()==4]\n",
    "F = Z[label.ravel()==5]\n",
    "G = Z[label.ravel()==6]\n",
    "# Plot the data\n",
    "plt.scatter(A[:,0],A[:,1])\n",
    "plt.scatter(B[:,0],B[:,1],c = 'r')\n",
    "plt.scatter(C[:,0],C[:,1],c = 'g')\n",
    "plt.scatter(D[:,0],D[:,1],c = 'b')\n",
    "plt.scatter(E[:,0],E[:,1],c = 'c')\n",
    "plt.scatter(F[:,0],F[:,1],c = 'm')\n",
    "plt.scatter(G[:,0],G[:,1],c = 'y')\n",
    "plt.scatter(center[:,0],center[:,1],s = 80,c = 'y', marker = 's')\n",
    "plt.xlabel('Height'),plt.ylabel('Weight')\n",
    "plt.show()"
   ]
  },
  {
   "cell_type": "code",
   "execution_count": 7,
   "metadata": {},
   "outputs": [],
   "source": [
    "#Practica abajo se cargan de un archivo de datos numpy que contiene un grupo de puntos NO clasificados\n",
    "# utiliza K-means para agruparlos adecuadamente\n",
    "#Luego utiliza KNN para agregar los puntos Z a sus clases correspondientes\n",
    "with np.load('datosKMeans.npz') as L:\n",
    "            puntos,Z=\\\n",
    "            [L[i] for i in ('puntos','Z')]\n",
    "\n",
    "#np.savez('datosKMeans',puntos=puntos, Z=Z)"
   ]
  },
  {
   "cell_type": "code",
   "execution_count": 10,
   "metadata": {},
   "outputs": [],
   "source": [
    "ret,label,center=cv2.kmeans(puntos,4,None,criteria,10,cv2.KMEANS_RANDOM_CENTERS)#ejecutamos k means sobre nuestros puntos"
   ]
  },
  {
   "cell_type": "code",
   "execution_count": 11,
   "metadata": {},
   "outputs": [
    {
     "data": {
      "image/png": "[encoded data removed]",
      "text/plain": [
       "<Figure size 432x288 with 1 Axes>"
      ]
     },
     "metadata": {
      "needs_background": "light"
     },
     "output_type": "display_data"
    }
   ],
   "source": [
    "A = puntos[label.ravel()==0]\n",
    "B = puntos[label.ravel()==1]\n",
    "C = puntos[label.ravel()==2]\n",
    "D = puntos[label.ravel()==3]\n",
    "E = puntos[label.ravel()==4]\n",
    "F = puntos[label.ravel()==5]\n",
    "G = puntos[label.ravel()==6]\n",
    "plt.scatter(A[:,0],A[:,1])\n",
    "plt.scatter(B[:,0],B[:,1],c = 'r')\n",
    "plt.scatter(C[:,0],C[:,1],c = 'g')\n",
    "plt.scatter(D[:,0],D[:,1],c = 'b')\n",
    "plt.scatter(E[:,0],E[:,1],c = 'c')\n",
    "plt.scatter(F[:,0],F[:,1],c = 'm')\n",
    "plt.scatter(G[:,0],G[:,1],c = 'y')\n",
    "plt.scatter(center[:,0],center[:,1],s = 80,c = 'y', marker = 's')\n",
    "plt.xlabel('Height'),plt.ylabel('Weight')\n",
    "plt.show()"
   ]
  },
  {
   "cell_type": "code",
   "execution_count": null,
   "metadata": {},
   "outputs": [],
   "source": []
  }
 ],
 "metadata": {
  "kernelspec": {
   "display_name": "Python 3",
   "language": "python",
   "name": "python3"
  },
  "language_info": {
   "codemirror_mode": {
    "name": "ipython",
    "version": 3
   },
   "file_extension": ".py",
   "mimetype": "text/x-python",
   "name": "python",
   "nbconvert_exporter": "python",
   "pygments_lexer": "ipython3",
   "version": "3.6.8"
  }
 },
 "nbformat": 4,
 "nbformat_minor": 2
}
