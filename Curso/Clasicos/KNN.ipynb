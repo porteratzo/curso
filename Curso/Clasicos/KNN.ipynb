{
 "cells": [
  {
   "cell_type": "code",
   "execution_count": 2,
   "metadata": {},
   "outputs": [],
   "source": [
    "import cv2\n",
    "import numpy as np\n",
    "import matplotlib.pyplot as plt\n",
    "import tensorflow as tf"
   ]
  },
  {
   "cell_type": "code",
   "execution_count": 4,
   "metadata": {},
   "outputs": [
    {
     "data": {
      "image/png": "[encoded data removed]",
      "text/plain": [
       "<Figure size 432x288 with 1 Axes>"
      ]
     },
     "metadata": {
      "needs_background": "light"
     },
     "output_type": "display_data"
    }
   ],
   "source": [
    "Data = np.random.randint(0,100,(25,2)).astype(np.float32)# np.random.randint es una funcion que crea un arreglo \n",
    "# con numeros aleatorios enteros entre 2 limites y de un tamaño especificado, en este caso de 0 a 99 y de tamaño [25,2]\n",
    "clasificaciones = np.random.randint(0,2,(25)).astype(np.float32)\n",
    "\n",
    "Rojo = Data[clasificaciones==0]#ravel cambia la forma de un arreglo a un vector plano [n], aqui lo usamos \n",
    "#para convertir nuestro arreglo de [25,1] a un vector de tamaño [25]\n",
    "\n",
    "#red = trainData[responses.ravel()==0] esta operacion se llama indexado binario, responses.ravel()==0 crea un vector \n",
    "#binario donde donde es Verdadero en donde el vector responses.ravel() es igual a 0, todo lo demas es falso.\n",
    "#Al meter este vector dentro de los corchetes del arreglo trainData, le estamos diciendo que le asigne a Rojo \n",
    "#unicamente las posiciones donde el vector es verdadero\n",
    "\n",
    "plt.scatter(Rojo[:,0],Rojo[:,1],80,'r','^')\n",
    "\n",
    "Azul = Data[clasificaciones==1]\n",
    "plt.scatter(Azul[:,0],Azul[:,1],80,'b','s')\n",
    "\n",
    "plt.show()"
   ]
  },
  {
   "cell_type": "code",
   "execution_count": 6,
   "metadata": {
    "scrolled": true
   },
   "outputs": [
    {
     "name": "stdout",
     "output_type": "stream",
     "text": [
      "result:  [[0.]] \n",
      "\n",
      "neighbours:  [[0. 1. 0.]] \n",
      "\n",
      "distance:  [[ 97. 193. 229.]]\n"
     ]
    }
   ],
   "source": [
    "newcomer = np.random.randint(0,100,(1,2)).astype(np.float32)\n",
    "\n",
    "knn = cv2.ml.KNearest_create() # creamos un clasificador KNN\n",
    "knn.train(Data,cv2.ml.ROW_SAMPLE,clasificaciones)#Lo entrenamos con las clases que generamos, primero los valores, luego\n",
    "#las clases correspondientes\n",
    "\n",
    "ret, results, neighbours ,dist = knn.findNearest(newcomer, 3)\n",
    "print (\"result: \", results,\"\\n\")\n",
    "print (\"neighbours: \", neighbours,\"\\n\")\n",
    "print (\"distance: \", dist)"
   ]
  },
  {
   "cell_type": "code",
   "execution_count": 7,
   "metadata": {
    "scrolled": true
   },
   "outputs": [
    {
     "data": {
      "image/png": "[encoded data removed]",
      "text/plain": [
       "<Figure size 432x288 with 1 Axes>"
      ]
     },
     "metadata": {
      "needs_background": "light"
     },
     "output_type": "display_data"
    }
   ],
   "source": [
    "plt.scatter(Rojo[:,0],Rojo[:,1],80,'r','^')\n",
    "plt.scatter(Azul[:,0],Azul[:,1],80,'b','s')\n",
    "if results==0:\n",
    "    plt.scatter(newcomer[:,0],newcomer[:,1],240,'r','o')\n",
    "else:\n",
    "    plt.scatter(newcomer[:,0],newcomer[:,1],240,'b','o')\n",
    "    \n",
    "plt.show()"
   ]
  },
  {
   "cell_type": "code",
   "execution_count": 9,
   "metadata": {},
   "outputs": [],
   "source": [
    "#Practica abajo se cargan de un archivo de datos numpy que contiene groupos de puntos [A,B,C], cada grupo es\n",
    "#una clase. El ultimo grupo Z son puntos revueltos \n",
    "#Usando KNN assigna los puntos en Z a sus clases correspondientes y plotea todos los puntos A,B,C,Z\n",
    "with np.load('datosKNN.npz') as L:\n",
    "            A, B,C,Z=\\\n",
    "            [L[i] for i in ('A','B','C','Z')]\n",
    "\n",
    "#np.savez('datosKNN',A=A,\\\n",
    "#         B=B, C=C, D=D, Z=Z)"
   ]
  },
  {
   "cell_type": "code",
   "execution_count": 17,
   "metadata": {},
   "outputs": [
    {
     "name": "stdout",
     "output_type": "stream",
     "text": [
      "(26, 2)\n",
      "(25, 2)\n",
      "(37, 2)\n"
     ]
    }
   ],
   "source": [
    "print(A.shape)\n",
    "print(B.shape)\n",
    "print(C.shape)"
   ]
  },
  {
   "cell_type": "code",
   "execution_count": 22,
   "metadata": {},
   "outputs": [
    {
     "data": {
      "image/png": "[encoded data removed]",
      "text/plain": [
       "<Figure size 432x288 with 1 Axes>"
      ]
     },
     "metadata": {
      "needs_background": "light"
     },
     "output_type": "display_data"
    }
   ],
   "source": [
    "plt.scatter(A[:,0],A[:,1],80,'r','^')\n",
    "plt.scatter(B[:,0],B[:,1],80,'b','s')\n",
    "plt.scatter(C[:,0],C[:,1],80,'y')\n",
    "plt.scatter(Z[:,0],Z[:,1],140,'g')\n",
    "lista=np.vstack((A,B,C)).astype(np.float32)\n",
    "\n",
    "clasifi=np.vstack((np.ones((26,2)),np.ones((25,2))*2,np.ones((37,2))*3)).astype(np.float32)\n",
    "plt.show()"
   ]
  },
  {
   "cell_type": "code",
   "execution_count": 23,
   "metadata": {},
   "outputs": [
    {
     "data": {
      "text/plain": [
       "True"
      ]
     },
     "execution_count": 23,
     "metadata": {},
     "output_type": "execute_result"
    }
   ],
   "source": [
    "knn.train(lista,cv2.ml.ROW_SAMPLE,clasifi)#Lo entrenamos con las clases que generamos, primero los valores, luego\n",
    "#las cla"
   ]
  },
  {
   "cell_type": "code",
   "execution_count": 26,
   "metadata": {},
   "outputs": [
    {
     "data": {
      "text/plain": [
       "(6, 2)"
      ]
     },
     "execution_count": 26,
     "metadata": {},
     "output_type": "execute_result"
    }
   ],
   "source": [
    "Z.shape"
   ]
  },
  {
   "cell_type": "code",
   "execution_count": 25,
   "metadata": {},
   "outputs": [
    {
     "name": "stdout",
     "output_type": "stream",
     "text": [
      "result:  [[1.]\n",
      " [1.]\n",
      " [2.]\n",
      " [1.]\n",
      " [1.]\n",
      " [1.]] \n",
      "\n",
      "neighbours:  [[1. 1. 1.]\n",
      " [1. 1. 1.]\n",
      " [2. 2. 2.]\n",
      " [1. 1. 1.]\n",
      " [1. 1. 1.]\n",
      " [1. 1. 1.]] \n",
      "\n",
      "distance:  [[  4.   9.  17.]\n",
      " [  0.   2.   2.]\n",
      " [ 20.  26.  34.]\n",
      " [233. 269. 269.]\n",
      " [  0.   0.   2.]\n",
      " [  0.   0.   0.]]\n"
     ]
    }
   ],
   "source": [
    "\n",
    "ret, results, neighbours ,dist = knn.findNearest(Z, 3)\n",
    "print (\"result: \", results,\"\\n\")\n",
    "print (\"neighbours: \", neighbours,\"\\n\")\n",
    "print (\"distance: \", dist)"
   ]
  },
  {
   "cell_type": "code",
   "execution_count": null,
   "metadata": {},
   "outputs": [],
   "source": []
  }
 ],
 "metadata": {
  "kernelspec": {
   "display_name": "Python 3",
   "language": "python",
   "name": "python3"
  },
  "language_info": {
   "codemirror_mode": {
    "name": "ipython",
    "version": 3
   },
   "file_extension": ".py",
   "mimetype": "text/x-python",
   "name": "python",
   "nbconvert_exporter": "python",
   "pygments_lexer": "ipython3",
   "version": "3.6.8"
  }
 },
 "nbformat": 4,
 "nbformat_minor": 2
}
