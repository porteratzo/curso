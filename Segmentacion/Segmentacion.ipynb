{
 "cells": [
  {
   "cell_type": "code",
   "execution_count": 1,
   "metadata": {},
   "outputs": [],
   "source": [
    "import numpy as np\n",
    "import os\n",
    "import tensorflow as tf\n",
    "import glob\n",
    "import cv2\n",
    "from matplotlib import pyplot as plt\n",
    "import tarfile"
   ]
  },
  {
   "cell_type": "code",
   "execution_count": 39,
   "metadata": {},
   "outputs": [],
   "source": [
    "def findname(Labels,ids):\n",
    "    Names=''\n",
    "    for i in ids:\n",
    "        for lab in Labels:\n",
    "            if lab[0]==str(i):\n",
    "                Names=lab[1]\n",
    "                break\n",
    "    return Names\n",
    "def drawOD(output_dict,img):\n",
    "    image_np=img\n",
    "    DBN=int(output_dict['num_detections'])\n",
    "    for i in range(DBN):\n",
    "        if output_dict['detection_scores'][i]>0.8:\n",
    "            boxes=output_dict['detection_boxes'][i]\n",
    "            clase=findname(MyLabels,[output_dict['detection_classes'][i]])\n",
    "            h,w,_=image_np.shape            \n",
    "            cv2.rectangle(image_np, (int(boxes[1]*w), int(boxes[0]*h)), \n",
    "                          (int(boxes[3]*w), int(boxes[2]*h)),\n",
    "                                  (255, 0, 0), 5)\n",
    "\n",
    "            cv2.putText(image_np,clase, \n",
    "                    (int(boxes[1]*w), int(boxes[0]*h)), \n",
    "                    cv2.FONT_HERSHEY_SIMPLEX, \n",
    "                    0.8,\n",
    "                    (255,255,255),\n",
    "                    2)\n",
    "    return image_np\n",
    "\n",
    "def drawmasks(output_dict,img):\n",
    "    image_np=img.copy()\n",
    "    DBN=int(output_dict['num_detections'])\n",
    "    for i in range(DBN):\n",
    "        if output_dict['detection_scores'][i]>0.8:\n",
    "            boxes=output_dict['detection_boxes'][i]\n",
    "            clase=findname(MyLabels,[output_dict['detection_classes'][i]])\n",
    "            mask=output_dict['detection_masks'][0,i,:,:]\n",
    "            h,w,_=image_np.shape\n",
    "            x1,y1,x2,y2=np.int(boxes[1]*w), np.int(boxes[0]*h), np.int(boxes[3]*w), np.int(boxes[2]*h)\n",
    "            fullm=fullmaskmake([x1,y1,x2,y2],mask)\n",
    "            bmask=cv2.bitwise_not(fullm*255)\n",
    "            image_np[y1:y2,x1:x2,0]=cv2.bitwise_and(bmask,image_np[y1:y2,x1:x2,0])\n",
    "            image_np[y1:y2,x1:x2,1]=cv2.bitwise_and(bmask,image_np[y1:y2,x1:x2,1])\n",
    "            image_np[y1:y2,x1:x2,2]=cv2.bitwise_and(bmask,image_np[y1:y2,x1:x2,2])\n",
    "    return image_np"
   ]
  },
  {
   "cell_type": "code",
   "execution_count": 29,
   "metadata": {},
   "outputs": [],
   "source": [
    "\n",
    "def fullmaskmake(boundingbox,mask):\n",
    "    x1,y1,x2,y2=boundingbox\n",
    "    h,w=(y2-y1),(x2-x1)\n",
    "    fullmask=cv2.resize(mask,(w,h))\n",
    "    return fullmask    "
   ]
  },
  {
   "cell_type": "code",
   "execution_count": 4,
   "metadata": {},
   "outputs": [],
   "source": [
    "# What model to download.\n",
    "MODEL_NAME = 'mask_rcnn_inception_v2_coco_2018_01_28'\n",
    "MODEL_FILE = MODEL_NAME + '.tar.gz'\n",
    "PATH_TO_FROZEN_GRAPH = MODEL_NAME + '/frozen_inference_graph.pb'\n",
    "PATH_TO_LABELS = os.path.join(os.getcwd(),'Labels', 'mscoco_label_map.pbtxt')\n",
    "\n",
    "tar_file = tarfile.open(MODEL_FILE)\n",
    "for file in tar_file.getmembers():\n",
    "    file_name = os.path.basename(file.name)\n",
    "    if 'frozen_inference_graph.pb' in file_name:\n",
    "        tar_file.extract(file, os.getcwd())"
   ]
  },
  {
   "cell_type": "code",
   "execution_count": 5,
   "metadata": {},
   "outputs": [],
   "source": [
    "detection_graph = tf.Graph()\n",
    "with detection_graph.as_default():\n",
    "    od_graph_def = tf.GraphDef()\n",
    "    with tf.gfile.GFile(PATH_TO_FROZEN_GRAPH, 'rb') as fid:\n",
    "        serialized_graph = fid.read()\n",
    "        od_graph_def.ParseFromString(serialized_graph)\n",
    "        tf.import_graph_def(od_graph_def, name='')\n",
    "        \n",
    "#category_index = label_map_util.create_category_index_from_labelmap(PATH_TO_LABELS, use_display_name=True)\n",
    "TEST_IMAGE_PATHS=glob.glob('Deteccion/*.jpg')\n",
    "IMAGE_SIZE = (12, 8)\n",
    "\n",
    "with open(PATH_TO_LABELS, 'r') as fh:\n",
    "    graph_str = fh.read()\n",
    "    \n",
    "    \n",
    "Labelsf=graph_str.split('item')\n",
    "MyLabels=[]\n",
    "for index in Labelsf:\n",
    "    pos1id=index.find('id: ')+4\n",
    "    pos2id=pos1id+2\n",
    "    if not index[pos1id:pos2id].isdigit():\n",
    "        pos2id-=1\n",
    "    pos1dn=index.find('display_name: ')+15\n",
    "    pos2dn=index.find('\"',pos1dn)\n",
    "    MyLabels.append([index[pos1id:pos2id],index[pos1dn:pos2dn]])"
   ]
  },
  {
   "cell_type": "code",
   "execution_count": 6,
   "metadata": {},
   "outputs": [],
   "source": [
    "def run_inference_for_single_image(image, sess):\n",
    "# Get handles to input and output tensors\n",
    "    ops = tf.get_default_graph().get_operations()\n",
    "    all_tensor_names = {output.name for op in ops for output in op.outputs}\n",
    "    tensor_dict = {}\n",
    "    for key in [\n",
    "      'num_detections', 'detection_boxes', 'detection_scores',\n",
    "      'detection_classes', 'detection_masks'\n",
    "  ]:\n",
    "        tensor_name = key + ':0'\n",
    "        if tensor_name in all_tensor_names:\n",
    "            tensor_dict[key] = tf.get_default_graph().get_tensor_by_name(\n",
    "              tensor_name)\n",
    "    if 'detection_masks' in tensor_dict:\n",
    "        # The following processing is only for single image\n",
    "        detection_boxes = tf.squeeze(tensor_dict['detection_boxes'], [0])\n",
    "        detection_masks = tf.squeeze(tensor_dict['detection_masks'], [0])\n",
    "        # Reframe is required to translate mask from box coordinates to image coordinates and fit the image size.\n",
    "        real_num_detection = tf.cast(tensor_dict['num_detections'][0], tf.int32)\n",
    "        detection_boxes = tf.slice(detection_boxes, [0, 0], [real_num_detection, -1])\n",
    "        detection_masks = tf.slice(detection_masks, [0, 0, 0], [real_num_detection, -1, -1])\n",
    "        #detection_masks_reframed = utils_ops.reframe_box_masks_to_image_masks(\n",
    "        #    detection_masks, detection_boxes, image.shape[0], image.shape[1])\n",
    "        detection_masks_reframed = tf.cast(\n",
    "            tf.greater(detection_masks, 0.5), tf.uint8)\n",
    "        # Follow the convention by adding back the batch dimension\n",
    "        tensor_dict['detection_masks'] = tf.expand_dims(\n",
    "            detection_masks_reframed, 0)        \n",
    "    \n",
    "    image_tensor = tf.get_default_graph().get_tensor_by_name('image_tensor:0')\n",
    "  # Run inference\n",
    "    output_dict = sess.run(tensor_dict,\n",
    "                         feed_dict={image_tensor: np.expand_dims(image, 0)})\n",
    "  # all outputs are float32 numpy arrays, so convert types as appropriate\n",
    "    output_dict['num_detections'] = int(output_dict['num_detections'][0])\n",
    "    output_dict['detection_classes'] = output_dict[\n",
    "              'detection_classes'][0].astype(np.uint8)\n",
    "    output_dict['detection_boxes'] = output_dict['detection_boxes'][0]\n",
    "    output_dict['detection_scores'] = output_dict['detection_scores'][0]\n",
    "    return output_dict\n",
    "\n"
   ]
  },
  {
   "cell_type": "code",
   "execution_count": 9,
   "metadata": {},
   "outputs": [],
   "source": [
    "sess=tf.InteractiveSession(graph=detection_graph)"
   ]
  },
  {
   "cell_type": "code",
   "execution_count": 38,
   "metadata": {},
   "outputs": [],
   "source": [
    "TEST_IMAGE_PATHS=glob.glob(os.path.join(os.getcwd(),'images','*'))\n",
    "for image_path in TEST_IMAGE_PATHS:\n",
    "    image_np = cv2.imread(image_path)\n",
    "    output_dict = run_inference_for_single_image(image_np, sess)\n",
    "    image_np=drawOD(output_dict,image_np)\n",
    "    image_np=drawmasks(output_dict,image_np)\n",
    "    image_np=cv2.resize(image_np,(1280,720))\n",
    "    cv2.imshow('j',image_np)\n",
    "    cv2.waitKey(3000)\n",
    "cv2.destroyAllWindows()"
   ]
  },
  {
   "cell_type": "code",
   "execution_count": 40,
   "metadata": {},
   "outputs": [],
   "source": [
    "cam = cv2.VideoCapture(0)\n",
    "while(1):\n",
    "    ret,frame=cam.read()\n",
    "    output_dict = run_inference_for_single_image(frame, sess)\n",
    "    frame=drawOD(output_dict,frame)\n",
    "    frame=drawmasks(output_dict,frame)\n",
    "    frame=cv2.resize(frame,(1280,720))\n",
    "    cv2.imshow('j',frame)\n",
    "    k=cv2.waitKey(10) & 0xFF\n",
    "    if k==ord('q'):\n",
    "        break\n",
    "cv2.destroyAllWindows()"
   ]
  },
  {
   "cell_type": "code",
   "execution_count": 17,
   "metadata": {},
   "outputs": [],
   "source": [
    "sess.close()"
   ]
  },
  {
   "cell_type": "code",
   "execution_count": null,
   "metadata": {},
   "outputs": [],
   "source": []
  }
 ],
 "metadata": {
  "kernelspec": {
   "display_name": "Python 3",
   "language": "python",
   "name": "python3"
  },
  "language_info": {
   "codemirror_mode": {
    "name": "ipython",
    "version": 3
   },
   "file_extension": ".py",
   "mimetype": "text/x-python",
   "name": "python",
   "nbconvert_exporter": "python",
   "pygments_lexer": "ipython3",
   "version": "3.6.8"
  }
 },
 "nbformat": 4,
 "nbformat_minor": 2
}
